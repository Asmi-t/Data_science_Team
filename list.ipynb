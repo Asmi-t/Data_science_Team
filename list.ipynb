{
 "cells": [
  {
   "cell_type": "markdown",
   "metadata": {},
   "source": [
    "1. Lists\n",
    "What are Lists?\n",
    "Lists Vs Arrays\n",
    "Characterstics of a List\n",
    "How to create a list\n",
    "Access items from a List\n",
    "Editing items in a List\n",
    "Deleting items from a List\n",
    "Operations on Lists\n",
    "Functions on Lists"
   ]
  },
  {
   "cell_type": "code",
   "execution_count": 11,
   "metadata": {},
   "outputs": [
    {
     "name": "stdout",
     "output_type": "stream",
     "text": [
      "[1, 2, 3, 4, 5, 6]\n"
     ]
    }
   ],
   "source": [
    "L = [51,1,3]\n",
    "\n",
    "print(id(L))\n",
    "print(id(L[0]))\n",
    "print(id(51))"
   ]
  },
  {
   "cell_type": "code",
   "execution_count": 15,
   "metadata": {},
   "outputs": [
    {
     "name": "stdout",
     "output_type": "stream",
     "text": [
      "[1, 2, 3, 4, 5, 6]\n",
      "[1, 2, 3, 4, 5, 6, 7, 8, 9]\n",
      "[1, 2, 3, 4, 5, 6, 7, 8, 9, [55, 56]]\n"
     ]
    }
   ],
   "source": [
    "L = [1,2,3,4,5]\n",
    "\n",
    "L.append(6)\n",
    "\n",
    "print(L)\n",
    "\n",
    "L.extend([7,8,9])\n",
    "print(L)\n",
    "\n",
    "L.append([55,56])\n",
    "print(L)"
   ]
  },
  {
   "cell_type": "code",
   "execution_count": 17,
   "metadata": {},
   "outputs": [
    {
     "name": "stdout",
     "output_type": "stream",
     "text": [
      "[5, 4, 3, 2, 1]\n",
      "[2, 3]\n"
     ]
    }
   ],
   "source": [
    "# slicing\n",
    "L = [1,2,3,4,5]\n",
    "\n",
    "print(L[::-1]) #reverse\n",
    "print(L[1:3])\n"
   ]
  },
  {
   "cell_type": "markdown",
   "metadata": {},
   "source": [
    "DELETING ELEMENT"
   ]
  },
  {
   "cell_type": "code",
   "execution_count": 25,
   "metadata": {},
   "outputs": [
    {
     "name": "stdout",
     "output_type": "stream",
     "text": [
      "[1, 2, 3, 4, 5]\n",
      "[2, 4, 5]\n"
     ]
    }
   ],
   "source": [
    "#del\n",
    "L = [1,2,3,4,5]\n",
    "\n",
    "print(L)\n",
    "del L[0:4:2]\n",
    "print(L)\n",
    "# del L\n",
    "# print(L)\n"
   ]
  },
  {
   "cell_type": "code",
   "execution_count": 26,
   "metadata": {},
   "outputs": [
    {
     "name": "stdout",
     "output_type": "stream",
     "text": [
      "[1, 2, 3, 4, 5]\n",
      "[1, 2, 3, 5]\n"
     ]
    }
   ],
   "source": [
    "#REMOVE\n",
    "L = [1,2,3,4,5]\n",
    "print(L)\n",
    "L.remove(4)\n",
    "print(L)"
   ]
  },
  {
   "cell_type": "code",
   "execution_count": 29,
   "metadata": {},
   "outputs": [
    {
     "name": "stdout",
     "output_type": "stream",
     "text": [
      "[1, 2, 3, 4, 5]\n",
      "[1, 2, 3, 5]\n",
      "[1, 2, 3]\n"
     ]
    }
   ],
   "source": [
    "#pop\n",
    "L = [1,2,3,4,5]\n",
    "print(L)\n",
    "L.pop(3) #pop(index)\n",
    "print(L) \n",
    "L.pop()  #pop the last element\n",
    "print(L)"
   ]
  },
  {
   "cell_type": "code",
   "execution_count": 31,
   "metadata": {},
   "outputs": [
    {
     "name": "stdout",
     "output_type": "stream",
     "text": [
      "[1, 2, 3, 4, 5]\n",
      "[]\n"
     ]
    }
   ],
   "source": [
    "#clear\n",
    "L = [1,2,3,4,5]\n",
    "print(L)\n",
    "L.clear() #make L empty\n",
    "print(L)"
   ]
  },
  {
   "cell_type": "markdown",
   "metadata": {},
   "source": [
    "Operations\n",
    "-Arithmetic\n",
    "-Membership\n",
    "-Loop"
   ]
  },
  {
   "cell_type": "code",
   "execution_count": 32,
   "metadata": {},
   "outputs": [
    {
     "name": "stdout",
     "output_type": "stream",
     "text": [
      "[1, 2, 3, 4, 5, 6, 7, 8]\n"
     ]
    }
   ],
   "source": [
    "#Arithmetic\n",
    "L1 = [1,2,3,4]\n",
    "L2 = [5,6,7,8]\n",
    "print(L1+L2)\n"
   ]
  },
  {
   "cell_type": "code",
   "execution_count": 34,
   "metadata": {},
   "outputs": [
    {
     "name": "stdout",
     "output_type": "stream",
     "text": [
      "[1, 2, 3, 4, 1, 2, 3, 4, 1, 2, 3, 4]\n"
     ]
    }
   ],
   "source": [
    "# Arithmetic\n",
    "L1 = [1,2,3,4]\n",
    "L2 = [5,6,7,8]\n",
    "print(L1*3)"
   ]
  },
  {
   "cell_type": "code",
   "execution_count": 39,
   "metadata": {},
   "outputs": [
    {
     "name": "stdout",
     "output_type": "stream",
     "text": [
      "True\n",
      "True\n",
      "False\n",
      "False\n",
      "True\n"
     ]
    }
   ],
   "source": [
    "# -Membership\n",
    "L1 = [1,2,3,4,5]\n",
    "L2 = [1,2,3,4,[5,6]]\n",
    "\n",
    "print(2 in L1)\n",
    "print(2 in L2)\n",
    "print(5 not in L1)\n",
    "print(5 in L2)\n",
    "print([5,6] in L2)"
   ]
  },
  {
   "cell_type": "code",
   "execution_count": 38,
   "metadata": {},
   "outputs": [
    {
     "name": "stdout",
     "output_type": "stream",
     "text": [
      "1\n",
      "2\n",
      "3\n",
      "4\n",
      "[5, 6]\n"
     ]
    }
   ],
   "source": [
    "#Loops\n",
    "L1 = [1,2,3,4,5]\n",
    "L2 = [1,2,3,4,[5,6]]\n",
    "\n",
    "for i in L2:\n",
    "    print(i)"
   ]
  },
  {
   "cell_type": "markdown",
   "metadata": {},
   "source": [
    "List Functions"
   ]
  },
  {
   "cell_type": "code",
   "execution_count": 46,
   "metadata": {},
   "outputs": [
    {
     "name": "stdout",
     "output_type": "stream",
     "text": [
      "5\n",
      "0\n",
      "7\n",
      "[0, 1, 2, 5, 7]\n",
      "[7, 5, 2, 1, 0]\n",
      "[2, 1, 5, 7, 0]\n"
     ]
    }
   ],
   "source": [
    "# len/min/max/sorted\n",
    "L = [2,1,5,7,0]\n",
    "\n",
    "print(len(L))\n",
    "print(min(L))\n",
    "print(max(L))\n",
    "print(sorted(L))\n",
    "print(sorted(L, reverse=True))\n",
    "print(L)"
   ]
  },
  {
   "cell_type": "code",
   "execution_count": 48,
   "metadata": {},
   "outputs": [
    {
     "name": "stdout",
     "output_type": "stream",
     "text": [
      "1\n",
      "3\n"
     ]
    }
   ],
   "source": [
    "# count \n",
    "L = [2,1,5,7,0,1,1,4]\n",
    "\n",
    "print(L.count(2))\n",
    "print(L.count(1))"
   ]
  },
  {
   "cell_type": "code",
   "execution_count": 50,
   "metadata": {},
   "outputs": [
    {
     "name": "stdout",
     "output_type": "stream",
     "text": [
      "1\n"
     ]
    },
    {
     "ename": "ValueError",
     "evalue": "9 is not in list",
     "output_type": "error",
     "traceback": [
      "\u001b[0;31m---------------------------------------------------------------------------\u001b[0m",
      "\u001b[0;31mValueError\u001b[0m                                Traceback (most recent call last)",
      "\u001b[0;32m/tmp/ipykernel_21036/4111598433.py\u001b[0m in \u001b[0;36m<module>\u001b[0;34m\u001b[0m\n\u001b[1;32m      2\u001b[0m \u001b[0mL\u001b[0m \u001b[0;34m=\u001b[0m \u001b[0;34m[\u001b[0m\u001b[0;36m2\u001b[0m\u001b[0;34m,\u001b[0m\u001b[0;36m1\u001b[0m\u001b[0;34m,\u001b[0m\u001b[0;36m5\u001b[0m\u001b[0;34m,\u001b[0m\u001b[0;36m7\u001b[0m\u001b[0;34m,\u001b[0m\u001b[0;36m0\u001b[0m\u001b[0;34m,\u001b[0m\u001b[0;36m1\u001b[0m\u001b[0;34m,\u001b[0m\u001b[0;36m1\u001b[0m\u001b[0;34m,\u001b[0m\u001b[0;36m4\u001b[0m\u001b[0;34m]\u001b[0m\u001b[0;34m\u001b[0m\u001b[0;34m\u001b[0m\u001b[0m\n\u001b[1;32m      3\u001b[0m \u001b[0mprint\u001b[0m\u001b[0;34m(\u001b[0m\u001b[0mL\u001b[0m\u001b[0;34m.\u001b[0m\u001b[0mindex\u001b[0m\u001b[0;34m(\u001b[0m\u001b[0;36m1\u001b[0m\u001b[0;34m)\u001b[0m\u001b[0;34m)\u001b[0m\u001b[0;34m\u001b[0m\u001b[0;34m\u001b[0m\u001b[0m\n\u001b[0;32m----> 4\u001b[0;31m \u001b[0mprint\u001b[0m\u001b[0;34m(\u001b[0m\u001b[0mL\u001b[0m\u001b[0;34m.\u001b[0m\u001b[0mindex\u001b[0m\u001b[0;34m(\u001b[0m\u001b[0;36m9\u001b[0m\u001b[0;34m)\u001b[0m\u001b[0;34m)\u001b[0m\u001b[0;34m\u001b[0m\u001b[0;34m\u001b[0m\u001b[0m\n\u001b[0m",
      "\u001b[0;31mValueError\u001b[0m: 9 is not in list"
     ]
    }
   ],
   "source": [
    "# index\n",
    "L = [2,1,5,7,0,1,1,4]\n",
    "print(L.index(1))\n",
    "# print(L.index(9)) #gives you error "
   ]
  },
  {
   "cell_type": "code",
   "execution_count": 53,
   "metadata": {},
   "outputs": [
    {
     "name": "stdout",
     "output_type": "stream",
     "text": [
      "[2, 1, 5, 7, 0]\n",
      "[0, 7, 5, 1, 2]\n"
     ]
    }
   ],
   "source": [
    "# reverse\n",
    "L = [2,1,5,7,0]\n",
    "\n",
    "print(L)\n",
    "L.reverse() #parmanent\n",
    "print(L)"
   ]
  },
  {
   "cell_type": "code",
   "execution_count": 56,
   "metadata": {},
   "outputs": [
    {
     "name": "stdout",
     "output_type": "stream",
     "text": [
      "[2, 1, 5, 7, 0]\n",
      "[0, 1, 2, 5, 7]\n",
      "[2, 1, 5, 7, 0]\n",
      "[0, 1, 2, 5, 7]\n"
     ]
    }
   ],
   "source": [
    "# sort (vs sorted)\n",
    "L = [2,1,5,7,0]\n",
    "print(L)\n",
    "\n",
    "print(sorted(L))\n",
    "print(L)\n",
    "L.sort() #parmanent\n",
    "print(L)"
   ]
  },
  {
   "cell_type": "code",
   "execution_count": 57,
   "metadata": {},
   "outputs": [
    {
     "name": "stdout",
     "output_type": "stream",
     "text": [
      "[2, 1, 5, 7, 0]\n",
      "140597898480768\n",
      "[2, 1, 5, 7, 0]\n",
      "140597898480768\n",
      "[2, 1, 5, 7, 0]\n",
      "140597897891392\n"
     ]
    }
   ],
   "source": [
    "# copy -> shallow\n",
    "L = [2,1,5,7,0]\n",
    "print(L)\n",
    "print(id(L))\n",
    "\n",
    "l1 = L.copy() #create another copy at different location i,e shallow copy\n",
    "print(L)\n",
    "print(id(L))\n",
    "print(l1)\n",
    "print(id(l1))"
   ]
  },
  {
   "cell_type": "markdown",
   "metadata": {},
   "source": [
    "List Comprehension\n",
    "-List Comprehension provides a concise way of creating lists.\n",
    "\n",
    "  newlist = [expression for item in iterable if condition == True]"
   ]
  },
  {
   "cell_type": "code",
   "execution_count": 58,
   "metadata": {},
   "outputs": [
    {
     "name": "stdout",
     "output_type": "stream",
     "text": [
      "[1, 2, 3, 4, 5, 6, 7, 8, 9, 10]\n"
     ]
    }
   ],
   "source": [
    "# Add 1 to 10 numbers to a list\n",
    "l = [i for i in range(1, 11)]\n",
    "\n",
    "print(l)"
   ]
  },
  {
   "cell_type": "code",
   "execution_count": 61,
   "metadata": {},
   "outputs": [
    {
     "name": "stdout",
     "output_type": "stream",
     "text": [
      "[-6, -9, -12]\n"
     ]
    }
   ],
   "source": [
    "# scalar multiplication on a vector\n",
    "v = [2,3,4]\n",
    "s = -3\n",
    "# [-6,-9,-12]\n",
    "\n",
    "ls = [-3*i for i in v]\n",
    "print(ls)\n"
   ]
  },
  {
   "cell_type": "code",
   "execution_count": 62,
   "metadata": {},
   "outputs": [
    {
     "name": "stdout",
     "output_type": "stream",
     "text": [
      "[1, 4, 9, 16, 25]\n"
     ]
    }
   ],
   "source": [
    "# Add squares\n",
    "L = [1,2,3,4,5]\n",
    "\n",
    "l = [i**2 for i in L]\n",
    "\n",
    "print(l)"
   ]
  },
  {
   "cell_type": "code",
   "execution_count": 63,
   "metadata": {},
   "outputs": [
    {
     "name": "stdout",
     "output_type": "stream",
     "text": [
      "[5, 10, 15, 20, 25, 30, 35, 40, 45, 50]\n"
     ]
    }
   ],
   "source": [
    "# Print all numbers divisible by 5 in the range of 1 to 50\n",
    "ls = [i for i in range(1,51) if i%5 == 0]\n",
    "print(ls)"
   ]
  },
  {
   "cell_type": "code",
   "execution_count": 64,
   "metadata": {},
   "outputs": [
    {
     "name": "stdout",
     "output_type": "stream",
     "text": [
      "['python', 'php']\n"
     ]
    }
   ],
   "source": [
    "# find languages which start with letter p\n",
    "languages = ['java','python','php','c','javascript']\n",
    "\n",
    "langStrWp = [lang for lang in languages if(lang.startswith('p'))]\n",
    "print(langStrWp)"
   ]
  },
  {
   "cell_type": "code",
   "execution_count": 74,
   "metadata": {},
   "outputs": [
    {
     "name": "stdout",
     "output_type": "stream",
     "text": [
      "['apple']\n"
     ]
    }
   ],
   "source": [
    "# Nested if with List Comprehension\n",
    "basket = ['apple','guava','cherry','banana']\n",
    "my_fruits = ['apple','kiwi','grapes','banana']\n",
    "\n",
    "# add new list from my_fruits and items if the fruit exists in basket and also starts with 'a'\n",
    "\n",
    "selFruits = [fruit for fruit in my_fruits if fruit in basket if fruit.startswith('a')]\n",
    "print(selFruits)\n"
   ]
  },
  {
   "cell_type": "code",
   "execution_count": 76,
   "metadata": {},
   "outputs": [
    {
     "name": "stdout",
     "output_type": "stream",
     "text": [
      "[[1, 2, 3], [2, 4, 6], [3, 6, 9]]\n"
     ]
    }
   ],
   "source": [
    "# Print a (3,3) matrix using list comprehension -> Nested List comprehension\n",
    "\n",
    "ls = [[i*j for i in range(1,4)] for j in range(1,4)]\n",
    "\n",
    "print(ls)"
   ]
  },
  {
   "cell_type": "code",
   "execution_count": 78,
   "metadata": {},
   "outputs": [
    {
     "name": "stdout",
     "output_type": "stream",
     "text": [
      "[5, 6, 7, 8, 10, 12, 14, 16, 15, 18, 21, 24, 20, 24, 28, 32]\n"
     ]
    }
   ],
   "source": [
    "# cartesian products -> List comprehension on 2 lists together\n",
    "L1 = [1,2,3,4]\n",
    "L2 = [5,6,7,8]\n",
    "# [5, 6, 7, 8, 10, 12, 14, 16, 15, 18, 21, 24, 20, 24, 28, 32]\n",
    "\n",
    "ls = [i*j for i in L1 for j in L2]\n",
    "print(ls)"
   ]
  },
  {
   "cell_type": "code",
   "execution_count": 82,
   "metadata": {},
   "outputs": [
    {
     "name": "stdout",
     "output_type": "stream",
     "text": [
      "[(1, -1), (2, -2), (3, -3), (4, -4)]\n"
     ]
    },
    {
     "data": {
      "text/plain": [
       "[0, 0, 0, 0]"
      ]
     },
     "execution_count": 82,
     "metadata": {},
     "output_type": "execute_result"
    }
   ],
   "source": [
    "# Write a program to add items of 2 lists indexwise\n",
    "\n",
    "L1 = [1,2,3,4]\n",
    "L2 = [-1,-2,-3,-4]\n",
    "\n",
    "print(list(zip(L1, L2)))\n",
    "\n",
    "[i+j for i,j in zip(L1, L2)]"
   ]
  }
 ],
 "metadata": {
  "kernelspec": {
   "display_name": "Python 3",
   "language": "python",
   "name": "python3"
  },
  "language_info": {
   "codemirror_mode": {
    "name": "ipython",
    "version": 3
   },
   "file_extension": ".py",
   "mimetype": "text/x-python",
   "name": "python",
   "nbconvert_exporter": "python",
   "pygments_lexer": "ipython3",
   "version": "3.11.2"
  }
 },
 "nbformat": 4,
 "nbformat_minor": 2
}
